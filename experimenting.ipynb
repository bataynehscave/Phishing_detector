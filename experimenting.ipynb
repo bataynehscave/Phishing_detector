{
 "cells": [
  {
   "cell_type": "code",
   "execution_count": 1,
   "metadata": {},
   "outputs": [],
   "source": [
    "import pandas as pd"
   ]
  },
  {
   "cell_type": "code",
   "execution_count": 2,
   "metadata": {},
   "outputs": [],
   "source": [
    "df = pd.read_csv('./data/test.csv', index_col=0)"
   ]
  },
  {
   "cell_type": "code",
   "execution_count": 3,
   "metadata": {},
   "outputs": [
    {
     "data": {
      "text/html": [
       "<div>\n",
       "<style scoped>\n",
       "    .dataframe tbody tr th:only-of-type {\n",
       "        vertical-align: middle;\n",
       "    }\n",
       "\n",
       "    .dataframe tbody tr th {\n",
       "        vertical-align: top;\n",
       "    }\n",
       "\n",
       "    .dataframe thead th {\n",
       "        text-align: right;\n",
       "    }\n",
       "</style>\n",
       "<table border=\"1\" class=\"dataframe\">\n",
       "  <thead>\n",
       "    <tr style=\"text-align: right;\">\n",
       "      <th></th>\n",
       "      <th>url</th>\n",
       "      <th>label</th>\n",
       "    </tr>\n",
       "  </thead>\n",
       "  <tbody>\n",
       "    <tr>\n",
       "      <th>0</th>\n",
       "      <td>http://minsotc.alania.gov.ru</td>\n",
       "      <td>0</td>\n",
       "    </tr>\n",
       "    <tr>\n",
       "      <th>1</th>\n",
       "      <td>http://www.freejavaguide.com</td>\n",
       "      <td>0</td>\n",
       "    </tr>\n",
       "    <tr>\n",
       "      <th>2</th>\n",
       "      <td>http://yeneliswa.co.za/moods/bankofamerica/7dd...</td>\n",
       "      <td>1</td>\n",
       "    </tr>\n",
       "    <tr>\n",
       "      <th>3</th>\n",
       "      <td>https://victordahdalehfoundation.com/programme...</td>\n",
       "      <td>0</td>\n",
       "    </tr>\n",
       "    <tr>\n",
       "      <th>4</th>\n",
       "      <td>http://camphhsi.com/product/list_947.html</td>\n",
       "      <td>0</td>\n",
       "    </tr>\n",
       "  </tbody>\n",
       "</table>\n",
       "</div>"
      ],
      "text/plain": [
       "                                                 url  label\n",
       "0                       http://minsotc.alania.gov.ru      0\n",
       "1                       http://www.freejavaguide.com      0\n",
       "2  http://yeneliswa.co.za/moods/bankofamerica/7dd...      1\n",
       "3  https://victordahdalehfoundation.com/programme...      0\n",
       "4          http://camphhsi.com/product/list_947.html      0"
      ]
     },
     "execution_count": 3,
     "metadata": {},
     "output_type": "execute_result"
    }
   ],
   "source": [
    "df.head()"
   ]
  },
  {
   "cell_type": "code",
   "execution_count": 4,
   "metadata": {},
   "outputs": [],
   "source": [
    "from feature_engineering import get_protocol\n",
    "df['https'] = df['url'].apply(lambda x: get_protocol(x))"
   ]
  },
  {
   "cell_type": "code",
   "execution_count": 5,
   "metadata": {},
   "outputs": [
    {
     "data": {
      "text/html": [
       "<div>\n",
       "<style scoped>\n",
       "    .dataframe tbody tr th:only-of-type {\n",
       "        vertical-align: middle;\n",
       "    }\n",
       "\n",
       "    .dataframe tbody tr th {\n",
       "        vertical-align: top;\n",
       "    }\n",
       "\n",
       "    .dataframe thead th {\n",
       "        text-align: right;\n",
       "    }\n",
       "</style>\n",
       "<table border=\"1\" class=\"dataframe\">\n",
       "  <thead>\n",
       "    <tr style=\"text-align: right;\">\n",
       "      <th></th>\n",
       "      <th>url</th>\n",
       "      <th>label</th>\n",
       "      <th>https</th>\n",
       "    </tr>\n",
       "  </thead>\n",
       "  <tbody>\n",
       "    <tr>\n",
       "      <th>0</th>\n",
       "      <td>http://minsotc.alania.gov.ru</td>\n",
       "      <td>0</td>\n",
       "      <td>False</td>\n",
       "    </tr>\n",
       "    <tr>\n",
       "      <th>1</th>\n",
       "      <td>http://www.freejavaguide.com</td>\n",
       "      <td>0</td>\n",
       "      <td>False</td>\n",
       "    </tr>\n",
       "    <tr>\n",
       "      <th>2</th>\n",
       "      <td>http://yeneliswa.co.za/moods/bankofamerica/7dd...</td>\n",
       "      <td>1</td>\n",
       "      <td>False</td>\n",
       "    </tr>\n",
       "    <tr>\n",
       "      <th>3</th>\n",
       "      <td>https://victordahdalehfoundation.com/programme...</td>\n",
       "      <td>0</td>\n",
       "      <td>True</td>\n",
       "    </tr>\n",
       "    <tr>\n",
       "      <th>4</th>\n",
       "      <td>http://camphhsi.com/product/list_947.html</td>\n",
       "      <td>0</td>\n",
       "      <td>False</td>\n",
       "    </tr>\n",
       "  </tbody>\n",
       "</table>\n",
       "</div>"
      ],
      "text/plain": [
       "                                                 url  label  https\n",
       "0                       http://minsotc.alania.gov.ru      0  False\n",
       "1                       http://www.freejavaguide.com      0  False\n",
       "2  http://yeneliswa.co.za/moods/bankofamerica/7dd...      1  False\n",
       "3  https://victordahdalehfoundation.com/programme...      0   True\n",
       "4          http://camphhsi.com/product/list_947.html      0  False"
      ]
     },
     "execution_count": 5,
     "metadata": {},
     "output_type": "execute_result"
    }
   ],
   "source": [
    "df.head()"
   ]
  },
  {
   "cell_type": "code",
   "execution_count": null,
   "metadata": {},
   "outputs": [],
   "source": []
  },
  {
   "cell_type": "code",
   "execution_count": 6,
   "metadata": {},
   "outputs": [],
   "source": [
    "from evaluation import evaluate_features\n",
    "protocol_results = evaluate_features(df, 'label', 0.4)"
   ]
  },
  {
   "cell_type": "code",
   "execution_count": 7,
   "metadata": {},
   "outputs": [
    {
     "data": {
      "text/html": [
       "<div>\n",
       "<style scoped>\n",
       "    .dataframe tbody tr th:only-of-type {\n",
       "        vertical-align: middle;\n",
       "    }\n",
       "\n",
       "    .dataframe tbody tr th {\n",
       "        vertical-align: top;\n",
       "    }\n",
       "\n",
       "    .dataframe thead th {\n",
       "        text-align: right;\n",
       "    }\n",
       "</style>\n",
       "<table border=\"1\" class=\"dataframe\">\n",
       "  <thead>\n",
       "    <tr style=\"text-align: right;\">\n",
       "      <th></th>\n",
       "      <th>Feature Importance (RF)</th>\n",
       "      <th>Coefficient (LR)</th>\n",
       "      <th>Accuracy (RF)</th>\n",
       "      <th>Accuracy (LR)</th>\n",
       "    </tr>\n",
       "  </thead>\n",
       "  <tbody>\n",
       "    <tr>\n",
       "      <th>https</th>\n",
       "      <td>1.0</td>\n",
       "      <td>-0.505409</td>\n",
       "      <td>0.562598</td>\n",
       "      <td>0.562598</td>\n",
       "    </tr>\n",
       "  </tbody>\n",
       "</table>\n",
       "</div>"
      ],
      "text/plain": [
       "       Feature Importance (RF)  Coefficient (LR)  Accuracy (RF)  Accuracy (LR)\n",
       "https                      1.0         -0.505409       0.562598       0.562598"
      ]
     },
     "execution_count": 7,
     "metadata": {},
     "output_type": "execute_result"
    }
   ],
   "source": [
    "protocol_results"
   ]
  },
  {
   "cell_type": "code",
   "execution_count": 8,
   "metadata": {},
   "outputs": [],
   "source": [
    "df['len_url'] = df['url'].str.len()"
   ]
  },
  {
   "cell_type": "code",
   "execution_count": 9,
   "metadata": {},
   "outputs": [
    {
     "data": {
      "text/html": [
       "<div>\n",
       "<style scoped>\n",
       "    .dataframe tbody tr th:only-of-type {\n",
       "        vertical-align: middle;\n",
       "    }\n",
       "\n",
       "    .dataframe tbody tr th {\n",
       "        vertical-align: top;\n",
       "    }\n",
       "\n",
       "    .dataframe thead th {\n",
       "        text-align: right;\n",
       "    }\n",
       "</style>\n",
       "<table border=\"1\" class=\"dataframe\">\n",
       "  <thead>\n",
       "    <tr style=\"text-align: right;\">\n",
       "      <th></th>\n",
       "      <th>url</th>\n",
       "      <th>label</th>\n",
       "      <th>https</th>\n",
       "      <th>len_url</th>\n",
       "    </tr>\n",
       "  </thead>\n",
       "  <tbody>\n",
       "    <tr>\n",
       "      <th>0</th>\n",
       "      <td>http://minsotc.alania.gov.ru</td>\n",
       "      <td>0</td>\n",
       "      <td>False</td>\n",
       "      <td>28</td>\n",
       "    </tr>\n",
       "    <tr>\n",
       "      <th>1</th>\n",
       "      <td>http://www.freejavaguide.com</td>\n",
       "      <td>0</td>\n",
       "      <td>False</td>\n",
       "      <td>28</td>\n",
       "    </tr>\n",
       "    <tr>\n",
       "      <th>2</th>\n",
       "      <td>http://yeneliswa.co.za/moods/bankofamerica/7dd...</td>\n",
       "      <td>1</td>\n",
       "      <td>False</td>\n",
       "      <td>180</td>\n",
       "    </tr>\n",
       "    <tr>\n",
       "      <th>3</th>\n",
       "      <td>https://victordahdalehfoundation.com/programme...</td>\n",
       "      <td>0</td>\n",
       "      <td>True</td>\n",
       "      <td>68</td>\n",
       "    </tr>\n",
       "    <tr>\n",
       "      <th>4</th>\n",
       "      <td>http://camphhsi.com/product/list_947.html</td>\n",
       "      <td>0</td>\n",
       "      <td>False</td>\n",
       "      <td>41</td>\n",
       "    </tr>\n",
       "  </tbody>\n",
       "</table>\n",
       "</div>"
      ],
      "text/plain": [
       "                                                 url  label  https  len_url\n",
       "0                       http://minsotc.alania.gov.ru      0  False       28\n",
       "1                       http://www.freejavaguide.com      0  False       28\n",
       "2  http://yeneliswa.co.za/moods/bankofamerica/7dd...      1  False      180\n",
       "3  https://victordahdalehfoundation.com/programme...      0   True       68\n",
       "4          http://camphhsi.com/product/list_947.html      0  False       41"
      ]
     },
     "execution_count": 9,
     "metadata": {},
     "output_type": "execute_result"
    }
   ],
   "source": [
    "df.head()"
   ]
  },
  {
   "cell_type": "code",
   "execution_count": 10,
   "metadata": {},
   "outputs": [
    {
     "data": {
      "text/html": [
       "<div>\n",
       "<style scoped>\n",
       "    .dataframe tbody tr th:only-of-type {\n",
       "        vertical-align: middle;\n",
       "    }\n",
       "\n",
       "    .dataframe tbody tr th {\n",
       "        vertical-align: top;\n",
       "    }\n",
       "\n",
       "    .dataframe thead th {\n",
       "        text-align: right;\n",
       "    }\n",
       "</style>\n",
       "<table border=\"1\" class=\"dataframe\">\n",
       "  <thead>\n",
       "    <tr style=\"text-align: right;\">\n",
       "      <th></th>\n",
       "      <th>Feature Importance (RF)</th>\n",
       "      <th>Coefficient (LR)</th>\n",
       "      <th>Accuracy (RF)</th>\n",
       "      <th>Accuracy (LR)</th>\n",
       "    </tr>\n",
       "  </thead>\n",
       "  <tbody>\n",
       "    <tr>\n",
       "      <th>https</th>\n",
       "      <td>0.070871</td>\n",
       "      <td>-0.617548</td>\n",
       "      <td>0.699592</td>\n",
       "      <td>0.695966</td>\n",
       "    </tr>\n",
       "    <tr>\n",
       "      <th>len_url</th>\n",
       "      <td>0.929129</td>\n",
       "      <td>0.030171</td>\n",
       "      <td>0.699592</td>\n",
       "      <td>0.695966</td>\n",
       "    </tr>\n",
       "  </tbody>\n",
       "</table>\n",
       "</div>"
      ],
      "text/plain": [
       "         Feature Importance (RF)  Coefficient (LR)  Accuracy (RF)  \\\n",
       "https                   0.070871         -0.617548       0.699592   \n",
       "len_url                 0.929129          0.030171       0.699592   \n",
       "\n",
       "         Accuracy (LR)  \n",
       "https         0.695966  \n",
       "len_url       0.695966  "
      ]
     },
     "execution_count": 10,
     "metadata": {},
     "output_type": "execute_result"
    }
   ],
   "source": [
    "evaluate_features(df, 'label', 0.6)"
   ]
  },
  {
   "cell_type": "code",
   "execution_count": 11,
   "metadata": {},
   "outputs": [],
   "source": [
    "def have_host_name(url: str) -> int:\n",
    "    from urllib.parse import urlparse \n",
    "    hostname = urlparse(url).hostname\n",
    "    # print(f'hostname:{hostname} ')\n",
    "    if hostname:\n",
    "        return 1\n",
    "    else:\n",
    "        return 0\n",
    "\n",
    "\n"
   ]
  },
  {
   "cell_type": "code",
   "execution_count": 12,
   "metadata": {},
   "outputs": [],
   "source": [
    "df['have_host_name'] = df['url'].apply(lambda x: have_host_name(x))"
   ]
  },
  {
   "cell_type": "code",
   "execution_count": 13,
   "metadata": {},
   "outputs": [
    {
     "data": {
      "text/html": [
       "<div>\n",
       "<style scoped>\n",
       "    .dataframe tbody tr th:only-of-type {\n",
       "        vertical-align: middle;\n",
       "    }\n",
       "\n",
       "    .dataframe tbody tr th {\n",
       "        vertical-align: top;\n",
       "    }\n",
       "\n",
       "    .dataframe thead th {\n",
       "        text-align: right;\n",
       "    }\n",
       "</style>\n",
       "<table border=\"1\" class=\"dataframe\">\n",
       "  <thead>\n",
       "    <tr style=\"text-align: right;\">\n",
       "      <th></th>\n",
       "      <th>Feature Importance (RF)</th>\n",
       "      <th>Coefficient (LR)</th>\n",
       "      <th>Accuracy (RF)</th>\n",
       "      <th>Accuracy (LR)</th>\n",
       "    </tr>\n",
       "  </thead>\n",
       "  <tbody>\n",
       "    <tr>\n",
       "      <th>https</th>\n",
       "      <td>0.075545</td>\n",
       "      <td>-0.629227</td>\n",
       "      <td>0.692321</td>\n",
       "      <td>0.689008</td>\n",
       "    </tr>\n",
       "    <tr>\n",
       "      <th>len_url</th>\n",
       "      <td>0.922984</td>\n",
       "      <td>0.029372</td>\n",
       "      <td>0.692321</td>\n",
       "      <td>0.689008</td>\n",
       "    </tr>\n",
       "    <tr>\n",
       "      <th>have_host_name</th>\n",
       "      <td>0.001471</td>\n",
       "      <td>2.181722</td>\n",
       "      <td>0.692321</td>\n",
       "      <td>0.689008</td>\n",
       "    </tr>\n",
       "  </tbody>\n",
       "</table>\n",
       "</div>"
      ],
      "text/plain": [
       "                Feature Importance (RF)  Coefficient (LR)  Accuracy (RF)  \\\n",
       "https                          0.075545         -0.629227       0.692321   \n",
       "len_url                        0.922984          0.029372       0.692321   \n",
       "have_host_name                 0.001471          2.181722       0.692321   \n",
       "\n",
       "                Accuracy (LR)  \n",
       "https                0.689008  \n",
       "len_url              0.689008  \n",
       "have_host_name       0.689008  "
      ]
     },
     "execution_count": 13,
     "metadata": {},
     "output_type": "execute_result"
    }
   ],
   "source": [
    "evaluate_features(df, 'label', 0.6)"
   ]
  },
  {
   "cell_type": "code",
   "execution_count": 14,
   "metadata": {},
   "outputs": [],
   "source": [
    "\n",
    "def has_ip_address(url):\n",
    "    import re\n",
    "    # Regular expression pattern to match IP addresses\n",
    "    ip_pattern = r'\\b(?:\\d{1,3}\\.){3}\\d{1,3}\\b'\n",
    "\n",
    "    # Check if the URL contains an IP address\n",
    "    if re.search(ip_pattern, url):\n",
    "        return 1\n",
    "    else:\n",
    "        return 0"
   ]
  },
  {
   "cell_type": "code",
   "execution_count": 15,
   "metadata": {},
   "outputs": [],
   "source": [
    "df['have_ip'] = df['url'].apply(lambda x: has_ip_address(x))"
   ]
  },
  {
   "cell_type": "code",
   "execution_count": 16,
   "metadata": {},
   "outputs": [
    {
     "data": {
      "text/html": [
       "<div>\n",
       "<style scoped>\n",
       "    .dataframe tbody tr th:only-of-type {\n",
       "        vertical-align: middle;\n",
       "    }\n",
       "\n",
       "    .dataframe tbody tr th {\n",
       "        vertical-align: top;\n",
       "    }\n",
       "\n",
       "    .dataframe thead th {\n",
       "        text-align: right;\n",
       "    }\n",
       "</style>\n",
       "<table border=\"1\" class=\"dataframe\">\n",
       "  <thead>\n",
       "    <tr style=\"text-align: right;\">\n",
       "      <th></th>\n",
       "      <th>url</th>\n",
       "      <th>label</th>\n",
       "      <th>https</th>\n",
       "      <th>len_url</th>\n",
       "      <th>have_host_name</th>\n",
       "      <th>have_ip</th>\n",
       "    </tr>\n",
       "  </thead>\n",
       "  <tbody>\n",
       "    <tr>\n",
       "      <th>33</th>\n",
       "      <td>http://101.99.90.147/banks/Desjardins/1f99bbd5...</td>\n",
       "      <td>1</td>\n",
       "      <td>False</td>\n",
       "      <td>70</td>\n",
       "      <td>1</td>\n",
       "      <td>1</td>\n",
       "    </tr>\n",
       "    <tr>\n",
       "      <th>206</th>\n",
       "      <td>http://110.4.45.230/~med3112/System/Log/Safety...</td>\n",
       "      <td>1</td>\n",
       "      <td>False</td>\n",
       "      <td>224</td>\n",
       "      <td>1</td>\n",
       "      <td>1</td>\n",
       "    </tr>\n",
       "    <tr>\n",
       "      <th>250</th>\n",
       "      <td>http://69.167.151.209/files/556af810c9e769e651...</td>\n",
       "      <td>1</td>\n",
       "      <td>False</td>\n",
       "      <td>72</td>\n",
       "      <td>1</td>\n",
       "      <td>1</td>\n",
       "    </tr>\n",
       "    <tr>\n",
       "      <th>295</th>\n",
       "      <td>http://118.27.28.16/pc/</td>\n",
       "      <td>1</td>\n",
       "      <td>False</td>\n",
       "      <td>23</td>\n",
       "      <td>1</td>\n",
       "      <td>1</td>\n",
       "    </tr>\n",
       "    <tr>\n",
       "      <th>638</th>\n",
       "      <td>http://67.229.48.206/ap/signin?key=a@b.c</td>\n",
       "      <td>1</td>\n",
       "      <td>False</td>\n",
       "      <td>40</td>\n",
       "      <td>1</td>\n",
       "      <td>1</td>\n",
       "    </tr>\n",
       "  </tbody>\n",
       "</table>\n",
       "</div>"
      ],
      "text/plain": [
       "                                                   url  label  https  len_url  \\\n",
       "33   http://101.99.90.147/banks/Desjardins/1f99bbd5...      1  False       70   \n",
       "206  http://110.4.45.230/~med3112/System/Log/Safety...      1  False      224   \n",
       "250  http://69.167.151.209/files/556af810c9e769e651...      1  False       72   \n",
       "295                            http://118.27.28.16/pc/      1  False       23   \n",
       "638           http://67.229.48.206/ap/signin?key=a@b.c      1  False       40   \n",
       "\n",
       "     have_host_name  have_ip  \n",
       "33                1        1  \n",
       "206               1        1  \n",
       "250               1        1  \n",
       "295               1        1  \n",
       "638               1        1  "
      ]
     },
     "execution_count": 16,
     "metadata": {},
     "output_type": "execute_result"
    }
   ],
   "source": [
    "df[df['have_ip'] == 1][:5]"
   ]
  },
  {
   "cell_type": "code",
   "execution_count": 17,
   "metadata": {},
   "outputs": [
    {
     "data": {
      "text/html": [
       "<div>\n",
       "<style scoped>\n",
       "    .dataframe tbody tr th:only-of-type {\n",
       "        vertical-align: middle;\n",
       "    }\n",
       "\n",
       "    .dataframe tbody tr th {\n",
       "        vertical-align: top;\n",
       "    }\n",
       "\n",
       "    .dataframe thead th {\n",
       "        text-align: right;\n",
       "    }\n",
       "</style>\n",
       "<table border=\"1\" class=\"dataframe\">\n",
       "  <thead>\n",
       "    <tr style=\"text-align: right;\">\n",
       "      <th></th>\n",
       "      <th>Feature Importance (RF)</th>\n",
       "      <th>Coefficient (LR)</th>\n",
       "      <th>Accuracy (RF)</th>\n",
       "      <th>Accuracy (LR)</th>\n",
       "    </tr>\n",
       "  </thead>\n",
       "  <tbody>\n",
       "    <tr>\n",
       "      <th>https</th>\n",
       "      <td>0.066526</td>\n",
       "      <td>-0.574021</td>\n",
       "      <td>0.703196</td>\n",
       "      <td>0.698904</td>\n",
       "    </tr>\n",
       "    <tr>\n",
       "      <th>len_url</th>\n",
       "      <td>0.893491</td>\n",
       "      <td>0.028368</td>\n",
       "      <td>0.703196</td>\n",
       "      <td>0.698904</td>\n",
       "    </tr>\n",
       "    <tr>\n",
       "      <th>have_host_name</th>\n",
       "      <td>0.000895</td>\n",
       "      <td>1.636618</td>\n",
       "      <td>0.703196</td>\n",
       "      <td>0.698904</td>\n",
       "    </tr>\n",
       "    <tr>\n",
       "      <th>have_ip</th>\n",
       "      <td>0.039088</td>\n",
       "      <td>3.840891</td>\n",
       "      <td>0.703196</td>\n",
       "      <td>0.698904</td>\n",
       "    </tr>\n",
       "  </tbody>\n",
       "</table>\n",
       "</div>"
      ],
      "text/plain": [
       "                Feature Importance (RF)  Coefficient (LR)  Accuracy (RF)  \\\n",
       "https                          0.066526         -0.574021       0.703196   \n",
       "len_url                        0.893491          0.028368       0.703196   \n",
       "have_host_name                 0.000895          1.636618       0.703196   \n",
       "have_ip                        0.039088          3.840891       0.703196   \n",
       "\n",
       "                Accuracy (LR)  \n",
       "https                0.698904  \n",
       "len_url              0.698904  \n",
       "have_host_name       0.698904  \n",
       "have_ip              0.698904  "
      ]
     },
     "execution_count": 17,
     "metadata": {},
     "output_type": "execute_result"
    }
   ],
   "source": [
    "evaluate_features(df, 'label', 0.6)"
   ]
  },
  {
   "cell_type": "code",
   "execution_count": 18,
   "metadata": {},
   "outputs": [],
   "source": [
    "def spec_car_count(url: str) -> int:\n",
    "    sp_c = ['@','?','-','=','.','#','%','+','$','!','*',',','//']\n",
    "    num_chars = sum([url.count(char)  for char in sp_c ])\n",
    "    return num_chars"
   ]
  },
  {
   "cell_type": "code",
   "execution_count": 19,
   "metadata": {},
   "outputs": [],
   "source": [
    "df['special_chars'] = df['url'].apply(lambda x: spec_car_count(x))"
   ]
  },
  {
   "cell_type": "code",
   "execution_count": 20,
   "metadata": {},
   "outputs": [
    {
     "data": {
      "text/html": [
       "<div>\n",
       "<style scoped>\n",
       "    .dataframe tbody tr th:only-of-type {\n",
       "        vertical-align: middle;\n",
       "    }\n",
       "\n",
       "    .dataframe tbody tr th {\n",
       "        vertical-align: top;\n",
       "    }\n",
       "\n",
       "    .dataframe thead th {\n",
       "        text-align: right;\n",
       "    }\n",
       "</style>\n",
       "<table border=\"1\" class=\"dataframe\">\n",
       "  <thead>\n",
       "    <tr style=\"text-align: right;\">\n",
       "      <th></th>\n",
       "      <th>url</th>\n",
       "      <th>label</th>\n",
       "      <th>https</th>\n",
       "      <th>len_url</th>\n",
       "      <th>have_host_name</th>\n",
       "      <th>have_ip</th>\n",
       "      <th>special_chars</th>\n",
       "    </tr>\n",
       "  </thead>\n",
       "  <tbody>\n",
       "    <tr>\n",
       "      <th>0</th>\n",
       "      <td>http://minsotc.alania.gov.ru</td>\n",
       "      <td>0</td>\n",
       "      <td>False</td>\n",
       "      <td>28</td>\n",
       "      <td>1</td>\n",
       "      <td>0</td>\n",
       "      <td>4</td>\n",
       "    </tr>\n",
       "    <tr>\n",
       "      <th>1</th>\n",
       "      <td>http://www.freejavaguide.com</td>\n",
       "      <td>0</td>\n",
       "      <td>False</td>\n",
       "      <td>28</td>\n",
       "      <td>1</td>\n",
       "      <td>0</td>\n",
       "      <td>3</td>\n",
       "    </tr>\n",
       "    <tr>\n",
       "      <th>2</th>\n",
       "      <td>http://yeneliswa.co.za/moods/bankofamerica/7dd...</td>\n",
       "      <td>1</td>\n",
       "      <td>False</td>\n",
       "      <td>180</td>\n",
       "      <td>1</td>\n",
       "      <td>0</td>\n",
       "      <td>9</td>\n",
       "    </tr>\n",
       "    <tr>\n",
       "      <th>3</th>\n",
       "      <td>https://victordahdalehfoundation.com/programme...</td>\n",
       "      <td>0</td>\n",
       "      <td>True</td>\n",
       "      <td>68</td>\n",
       "      <td>1</td>\n",
       "      <td>0</td>\n",
       "      <td>4</td>\n",
       "    </tr>\n",
       "    <tr>\n",
       "      <th>4</th>\n",
       "      <td>http://camphhsi.com/product/list_947.html</td>\n",
       "      <td>0</td>\n",
       "      <td>False</td>\n",
       "      <td>41</td>\n",
       "      <td>1</td>\n",
       "      <td>0</td>\n",
       "      <td>3</td>\n",
       "    </tr>\n",
       "  </tbody>\n",
       "</table>\n",
       "</div>"
      ],
      "text/plain": [
       "                                                 url  label  https  len_url  \\\n",
       "0                       http://minsotc.alania.gov.ru      0  False       28   \n",
       "1                       http://www.freejavaguide.com      0  False       28   \n",
       "2  http://yeneliswa.co.za/moods/bankofamerica/7dd...      1  False      180   \n",
       "3  https://victordahdalehfoundation.com/programme...      0   True       68   \n",
       "4          http://camphhsi.com/product/list_947.html      0  False       41   \n",
       "\n",
       "   have_host_name  have_ip  special_chars  \n",
       "0               1        0              4  \n",
       "1               1        0              3  \n",
       "2               1        0              9  \n",
       "3               1        0              4  \n",
       "4               1        0              3  "
      ]
     },
     "execution_count": 20,
     "metadata": {},
     "output_type": "execute_result"
    }
   ],
   "source": [
    "df.head()"
   ]
  },
  {
   "cell_type": "code",
   "execution_count": 21,
   "metadata": {},
   "outputs": [
    {
     "data": {
      "text/html": [
       "<div>\n",
       "<style scoped>\n",
       "    .dataframe tbody tr th:only-of-type {\n",
       "        vertical-align: middle;\n",
       "    }\n",
       "\n",
       "    .dataframe tbody tr th {\n",
       "        vertical-align: top;\n",
       "    }\n",
       "\n",
       "    .dataframe thead th {\n",
       "        text-align: right;\n",
       "    }\n",
       "</style>\n",
       "<table border=\"1\" class=\"dataframe\">\n",
       "  <thead>\n",
       "    <tr style=\"text-align: right;\">\n",
       "      <th></th>\n",
       "      <th>Feature Importance (RF)</th>\n",
       "      <th>Coefficient (LR)</th>\n",
       "      <th>Accuracy (RF)</th>\n",
       "      <th>Accuracy (LR)</th>\n",
       "    </tr>\n",
       "  </thead>\n",
       "  <tbody>\n",
       "    <tr>\n",
       "      <th>https</th>\n",
       "      <td>0.043888</td>\n",
       "      <td>-0.607918</td>\n",
       "      <td>0.74376</td>\n",
       "      <td>0.717009</td>\n",
       "    </tr>\n",
       "    <tr>\n",
       "      <th>len_url</th>\n",
       "      <td>0.724607</td>\n",
       "      <td>0.050280</td>\n",
       "      <td>0.74376</td>\n",
       "      <td>0.717009</td>\n",
       "    </tr>\n",
       "    <tr>\n",
       "      <th>have_host_name</th>\n",
       "      <td>0.000449</td>\n",
       "      <td>-0.629279</td>\n",
       "      <td>0.74376</td>\n",
       "      <td>0.717009</td>\n",
       "    </tr>\n",
       "    <tr>\n",
       "      <th>have_ip</th>\n",
       "      <td>0.027443</td>\n",
       "      <td>4.409952</td>\n",
       "      <td>0.74376</td>\n",
       "      <td>0.717009</td>\n",
       "    </tr>\n",
       "    <tr>\n",
       "      <th>special_chars</th>\n",
       "      <td>0.203614</td>\n",
       "      <td>-0.237329</td>\n",
       "      <td>0.74376</td>\n",
       "      <td>0.717009</td>\n",
       "    </tr>\n",
       "  </tbody>\n",
       "</table>\n",
       "</div>"
      ],
      "text/plain": [
       "                Feature Importance (RF)  Coefficient (LR)  Accuracy (RF)  \\\n",
       "https                          0.043888         -0.607918        0.74376   \n",
       "len_url                        0.724607          0.050280        0.74376   \n",
       "have_host_name                 0.000449         -0.629279        0.74376   \n",
       "have_ip                        0.027443          4.409952        0.74376   \n",
       "special_chars                  0.203614         -0.237329        0.74376   \n",
       "\n",
       "                Accuracy (LR)  \n",
       "https                0.717009  \n",
       "len_url              0.717009  \n",
       "have_host_name       0.717009  \n",
       "have_ip              0.717009  \n",
       "special_chars        0.717009  "
      ]
     },
     "execution_count": 21,
     "metadata": {},
     "output_type": "execute_result"
    }
   ],
   "source": [
    "evaluate_features(df, 'label', 0.6)"
   ]
  },
  {
   "cell_type": "code",
   "execution_count": 22,
   "metadata": {},
   "outputs": [],
   "source": [
    "def digit_count(URL: str) -> int:\n",
    "    digits = 0\n",
    "    for i in URL:\n",
    "        if i.isnumeric():\n",
    "            digits = digits + 1\n",
    "    return digits\n",
    "\n",
    "def letters_count(URL: str) -> int:\n",
    "    alphas = 0\n",
    "    for i in URL:\n",
    "        if i.isalpha():\n",
    "            alphas = alphas + 1\n",
    "    return alphas\n",
    "df['digits']  = df['url'].apply(lambda x: digit_count(x))\n",
    "df['letters']  = df['url'].apply(lambda x: letters_count(x))"
   ]
  },
  {
   "cell_type": "code",
   "execution_count": 23,
   "metadata": {},
   "outputs": [
    {
     "data": {
      "text/html": [
       "<div>\n",
       "<style scoped>\n",
       "    .dataframe tbody tr th:only-of-type {\n",
       "        vertical-align: middle;\n",
       "    }\n",
       "\n",
       "    .dataframe tbody tr th {\n",
       "        vertical-align: top;\n",
       "    }\n",
       "\n",
       "    .dataframe thead th {\n",
       "        text-align: right;\n",
       "    }\n",
       "</style>\n",
       "<table border=\"1\" class=\"dataframe\">\n",
       "  <thead>\n",
       "    <tr style=\"text-align: right;\">\n",
       "      <th></th>\n",
       "      <th>Feature Importance (RF)</th>\n",
       "      <th>Coefficient (LR)</th>\n",
       "      <th>Accuracy (RF)</th>\n",
       "      <th>Accuracy (LR)</th>\n",
       "    </tr>\n",
       "  </thead>\n",
       "  <tbody>\n",
       "    <tr>\n",
       "      <th>https</th>\n",
       "      <td>0.026211</td>\n",
       "      <td>-0.507896</td>\n",
       "      <td>0.860781</td>\n",
       "      <td>0.719615</td>\n",
       "    </tr>\n",
       "    <tr>\n",
       "      <th>len_url</th>\n",
       "      <td>0.316761</td>\n",
       "      <td>0.002819</td>\n",
       "      <td>0.860781</td>\n",
       "      <td>0.719615</td>\n",
       "    </tr>\n",
       "    <tr>\n",
       "      <th>have_host_name</th>\n",
       "      <td>0.000265</td>\n",
       "      <td>-0.366870</td>\n",
       "      <td>0.860781</td>\n",
       "      <td>0.719615</td>\n",
       "    </tr>\n",
       "    <tr>\n",
       "      <th>have_ip</th>\n",
       "      <td>0.010636</td>\n",
       "      <td>3.964348</td>\n",
       "      <td>0.860781</td>\n",
       "      <td>0.719615</td>\n",
       "    </tr>\n",
       "    <tr>\n",
       "      <th>special_chars</th>\n",
       "      <td>0.139596</td>\n",
       "      <td>-0.204213</td>\n",
       "      <td>0.860781</td>\n",
       "      <td>0.719615</td>\n",
       "    </tr>\n",
       "    <tr>\n",
       "      <th>digits</th>\n",
       "      <td>0.255085</td>\n",
       "      <td>0.117401</td>\n",
       "      <td>0.860781</td>\n",
       "      <td>0.719615</td>\n",
       "    </tr>\n",
       "    <tr>\n",
       "      <th>letters</th>\n",
       "      <td>0.251446</td>\n",
       "      <td>0.037500</td>\n",
       "      <td>0.860781</td>\n",
       "      <td>0.719615</td>\n",
       "    </tr>\n",
       "  </tbody>\n",
       "</table>\n",
       "</div>"
      ],
      "text/plain": [
       "                Feature Importance (RF)  Coefficient (LR)  Accuracy (RF)  \\\n",
       "https                          0.026211         -0.507896       0.860781   \n",
       "len_url                        0.316761          0.002819       0.860781   \n",
       "have_host_name                 0.000265         -0.366870       0.860781   \n",
       "have_ip                        0.010636          3.964348       0.860781   \n",
       "special_chars                  0.139596         -0.204213       0.860781   \n",
       "digits                         0.255085          0.117401       0.860781   \n",
       "letters                        0.251446          0.037500       0.860781   \n",
       "\n",
       "                Accuracy (LR)  \n",
       "https                0.719615  \n",
       "len_url              0.719615  \n",
       "have_host_name       0.719615  \n",
       "have_ip              0.719615  \n",
       "special_chars        0.719615  \n",
       "digits               0.719615  \n",
       "letters              0.719615  "
      ]
     },
     "execution_count": 23,
     "metadata": {},
     "output_type": "execute_result"
    }
   ],
   "source": [
    "evaluate_features(df, 'label', 0.7)"
   ]
  },
  {
   "cell_type": "code",
   "execution_count": 24,
   "metadata": {},
   "outputs": [],
   "source": [
    "df['letters_to_digits'] = (df['letters'] + 1) / (df['digits'] + 1)"
   ]
  },
  {
   "cell_type": "code",
   "execution_count": 25,
   "metadata": {},
   "outputs": [
    {
     "data": {
      "text/html": [
       "<div>\n",
       "<style scoped>\n",
       "    .dataframe tbody tr th:only-of-type {\n",
       "        vertical-align: middle;\n",
       "    }\n",
       "\n",
       "    .dataframe tbody tr th {\n",
       "        vertical-align: top;\n",
       "    }\n",
       "\n",
       "    .dataframe thead th {\n",
       "        text-align: right;\n",
       "    }\n",
       "</style>\n",
       "<table border=\"1\" class=\"dataframe\">\n",
       "  <thead>\n",
       "    <tr style=\"text-align: right;\">\n",
       "      <th></th>\n",
       "      <th>Feature Importance (RF)</th>\n",
       "      <th>Coefficient (LR)</th>\n",
       "      <th>Accuracy (RF)</th>\n",
       "      <th>Accuracy (LR)</th>\n",
       "    </tr>\n",
       "  </thead>\n",
       "  <tbody>\n",
       "    <tr>\n",
       "      <th>https</th>\n",
       "      <td>0.030884</td>\n",
       "      <td>-0.483274</td>\n",
       "      <td>0.850934</td>\n",
       "      <td>0.719755</td>\n",
       "    </tr>\n",
       "    <tr>\n",
       "      <th>len_url</th>\n",
       "      <td>0.330472</td>\n",
       "      <td>0.016454</td>\n",
       "      <td>0.850934</td>\n",
       "      <td>0.719755</td>\n",
       "    </tr>\n",
       "    <tr>\n",
       "      <th>have_host_name</th>\n",
       "      <td>0.000324</td>\n",
       "      <td>-0.275332</td>\n",
       "      <td>0.850934</td>\n",
       "      <td>0.719755</td>\n",
       "    </tr>\n",
       "    <tr>\n",
       "      <th>have_ip</th>\n",
       "      <td>0.008664</td>\n",
       "      <td>4.134390</td>\n",
       "      <td>0.850934</td>\n",
       "      <td>0.719755</td>\n",
       "    </tr>\n",
       "    <tr>\n",
       "      <th>special_chars</th>\n",
       "      <td>0.151345</td>\n",
       "      <td>-0.198754</td>\n",
       "      <td>0.850934</td>\n",
       "      <td>0.719755</td>\n",
       "    </tr>\n",
       "    <tr>\n",
       "      <th>digits</th>\n",
       "      <td>0.168853</td>\n",
       "      <td>0.078952</td>\n",
       "      <td>0.850934</td>\n",
       "      <td>0.719755</td>\n",
       "    </tr>\n",
       "    <tr>\n",
       "      <th>letters</th>\n",
       "      <td>0.140015</td>\n",
       "      <td>0.024016</td>\n",
       "      <td>0.850934</td>\n",
       "      <td>0.719755</td>\n",
       "    </tr>\n",
       "    <tr>\n",
       "      <th>letters_to_digits</th>\n",
       "      <td>0.169442</td>\n",
       "      <td>-0.009228</td>\n",
       "      <td>0.850934</td>\n",
       "      <td>0.719755</td>\n",
       "    </tr>\n",
       "  </tbody>\n",
       "</table>\n",
       "</div>"
      ],
      "text/plain": [
       "                   Feature Importance (RF)  Coefficient (LR)  Accuracy (RF)  \\\n",
       "https                             0.030884         -0.483274       0.850934   \n",
       "len_url                           0.330472          0.016454       0.850934   \n",
       "have_host_name                    0.000324         -0.275332       0.850934   \n",
       "have_ip                           0.008664          4.134390       0.850934   \n",
       "special_chars                     0.151345         -0.198754       0.850934   \n",
       "digits                            0.168853          0.078952       0.850934   \n",
       "letters                           0.140015          0.024016       0.850934   \n",
       "letters_to_digits                 0.169442         -0.009228       0.850934   \n",
       "\n",
       "                   Accuracy (LR)  \n",
       "https                   0.719755  \n",
       "len_url                 0.719755  \n",
       "have_host_name          0.719755  \n",
       "have_ip                 0.719755  \n",
       "special_chars           0.719755  \n",
       "digits                  0.719755  \n",
       "letters                 0.719755  \n",
       "letters_to_digits       0.719755  "
      ]
     },
     "execution_count": 25,
     "metadata": {},
     "output_type": "execute_result"
    }
   ],
   "source": [
    "evaluate_features(df, 'label', 1)"
   ]
  },
  {
   "cell_type": "code",
   "execution_count": 26,
   "metadata": {},
   "outputs": [
    {
     "name": "stdout",
     "output_type": "stream",
     "text": [
      "2     http://yeneliswa.co.za/moods/bankofamerica/7dd...\n",
      "8     http://zonaderegistrosenlineabnweb1.com/BNWeb/...\n",
      "9                 http://froxhositng.000webhostapp.com/\n",
      "10    https://emailupdate.azurewebsites.net/apple/eb...\n",
      "12    https://home-onlineingservice-7c2773.ingress-c...\n",
      "13    https://chase-authoririze.serveusers.com/../my...\n",
      "15                     https://app-dispositivoauth.com/\n",
      "21    http://facebook.com-review-notifyfvrwiamhxmm.v...\n",
      "23            https://constreetyj.com/square/index2.php\n",
      "24    http://nettewalter.com/znb/adobelatest/zxsguwj...\n",
      "Name: url, dtype: object\n"
     ]
    }
   ],
   "source": [
    "print(df[df['label'] == 1].head(10)['url'])"
   ]
  },
  {
   "cell_type": "code",
   "execution_count": 38,
   "metadata": {},
   "outputs": [],
   "source": [
    "def get_feats(url: str) -> pd.DataFrame:\n",
    "    protocol = (get_protocol(url) == 'https')\n",
    "    url_len = len(url)\n",
    "    host_name = have_host_name(url)\n",
    "    ip = has_ip_address(url)\n",
    "    special_chars = spec_car_count(url)\n",
    "    digits = digit_count(url)\n",
    "    letters = letters_count(url)\n",
    "    let_to_digs = (letters + 1) / (digits + 1)\n",
    "\n",
    "    return pd.DataFrame({\n",
    "        'https': [protocol],\n",
    "        'len_url': [url_len],\n",
    "        'have_host_name': [host_name],\n",
    "        'have_ip': [ip],\n",
    "        'special_chars': [special_chars],\n",
    "        'digits': [digits],\n",
    "        'letters': [letters],\n",
    "        'letters_to_digits': [let_to_digs]\n",
    "    })\n",
    "\n",
    "    \n",
    "\n",
    "\n"
   ]
  },
  {
   "cell_type": "code",
   "execution_count": 39,
   "metadata": {},
   "outputs": [],
   "source": [
    "fts = get_feats('http://minsotc.alania.gov.ru')"
   ]
  },
  {
   "cell_type": "code",
   "execution_count": 40,
   "metadata": {},
   "outputs": [
    {
     "data": {
      "text/html": [
       "<div>\n",
       "<style scoped>\n",
       "    .dataframe tbody tr th:only-of-type {\n",
       "        vertical-align: middle;\n",
       "    }\n",
       "\n",
       "    .dataframe tbody tr th {\n",
       "        vertical-align: top;\n",
       "    }\n",
       "\n",
       "    .dataframe thead th {\n",
       "        text-align: right;\n",
       "    }\n",
       "</style>\n",
       "<table border=\"1\" class=\"dataframe\">\n",
       "  <thead>\n",
       "    <tr style=\"text-align: right;\">\n",
       "      <th></th>\n",
       "      <th>https</th>\n",
       "      <th>len_url</th>\n",
       "      <th>have_host_name</th>\n",
       "      <th>have_ip</th>\n",
       "      <th>special_chars</th>\n",
       "      <th>digits</th>\n",
       "      <th>letters</th>\n",
       "      <th>letters_to_digits</th>\n",
       "    </tr>\n",
       "  </thead>\n",
       "  <tbody>\n",
       "    <tr>\n",
       "      <th>0</th>\n",
       "      <td>False</td>\n",
       "      <td>28</td>\n",
       "      <td>1</td>\n",
       "      <td>0</td>\n",
       "      <td>4</td>\n",
       "      <td>0</td>\n",
       "      <td>22</td>\n",
       "      <td>23.0</td>\n",
       "    </tr>\n",
       "  </tbody>\n",
       "</table>\n",
       "</div>"
      ],
      "text/plain": [
       "   https  len_url  have_host_name  have_ip  special_chars  digits  letters  \\\n",
       "0  False       28               1        0              4       0       22   \n",
       "\n",
       "   letters_to_digits  \n",
       "0               23.0  "
      ]
     },
     "execution_count": 40,
     "metadata": {},
     "output_type": "execute_result"
    }
   ],
   "source": [
    "fts"
   ]
  },
  {
   "cell_type": "code",
   "execution_count": 41,
   "metadata": {},
   "outputs": [],
   "source": [
    "# from sklearn.preprocessing import OneHotEncoder\n",
    "from sklearn.ensemble import RandomForestClassifier\n",
    "from sklearn.metrics import classification_report\n",
    "\n",
    "\n"
   ]
  },
  {
   "cell_type": "code",
   "execution_count": 42,
   "metadata": {},
   "outputs": [],
   "source": [
    "df.dropna(inplace=True)"
   ]
  },
  {
   "cell_type": "code",
   "execution_count": null,
   "metadata": {},
   "outputs": [],
   "source": []
  },
  {
   "cell_type": "code",
   "execution_count": 43,
   "metadata": {},
   "outputs": [],
   "source": [
    "X = df.drop(['url', 'label'], axis= 1)\n",
    "y = df['label']"
   ]
  },
  {
   "cell_type": "code",
   "execution_count": 44,
   "metadata": {},
   "outputs": [
    {
     "data": {
      "text/html": [
       "<div>\n",
       "<style scoped>\n",
       "    .dataframe tbody tr th:only-of-type {\n",
       "        vertical-align: middle;\n",
       "    }\n",
       "\n",
       "    .dataframe tbody tr th {\n",
       "        vertical-align: top;\n",
       "    }\n",
       "\n",
       "    .dataframe thead th {\n",
       "        text-align: right;\n",
       "    }\n",
       "</style>\n",
       "<table border=\"1\" class=\"dataframe\">\n",
       "  <thead>\n",
       "    <tr style=\"text-align: right;\">\n",
       "      <th></th>\n",
       "      <th>https</th>\n",
       "      <th>len_url</th>\n",
       "      <th>have_host_name</th>\n",
       "      <th>have_ip</th>\n",
       "      <th>special_chars</th>\n",
       "      <th>digits</th>\n",
       "      <th>letters</th>\n",
       "      <th>letters_to_digits</th>\n",
       "    </tr>\n",
       "  </thead>\n",
       "  <tbody>\n",
       "    <tr>\n",
       "      <th>0</th>\n",
       "      <td>False</td>\n",
       "      <td>28</td>\n",
       "      <td>1</td>\n",
       "      <td>0</td>\n",
       "      <td>4</td>\n",
       "      <td>0</td>\n",
       "      <td>22</td>\n",
       "      <td>23.000000</td>\n",
       "    </tr>\n",
       "    <tr>\n",
       "      <th>1</th>\n",
       "      <td>False</td>\n",
       "      <td>28</td>\n",
       "      <td>1</td>\n",
       "      <td>0</td>\n",
       "      <td>3</td>\n",
       "      <td>0</td>\n",
       "      <td>23</td>\n",
       "      <td>24.000000</td>\n",
       "    </tr>\n",
       "    <tr>\n",
       "      <th>2</th>\n",
       "      <td>False</td>\n",
       "      <td>180</td>\n",
       "      <td>1</td>\n",
       "      <td>0</td>\n",
       "      <td>9</td>\n",
       "      <td>50</td>\n",
       "      <td>112</td>\n",
       "      <td>2.215686</td>\n",
       "    </tr>\n",
       "    <tr>\n",
       "      <th>3</th>\n",
       "      <td>True</td>\n",
       "      <td>68</td>\n",
       "      <td>1</td>\n",
       "      <td>0</td>\n",
       "      <td>4</td>\n",
       "      <td>0</td>\n",
       "      <td>59</td>\n",
       "      <td>60.000000</td>\n",
       "    </tr>\n",
       "    <tr>\n",
       "      <th>4</th>\n",
       "      <td>False</td>\n",
       "      <td>41</td>\n",
       "      <td>1</td>\n",
       "      <td>0</td>\n",
       "      <td>3</td>\n",
       "      <td>3</td>\n",
       "      <td>30</td>\n",
       "      <td>7.750000</td>\n",
       "    </tr>\n",
       "  </tbody>\n",
       "</table>\n",
       "</div>"
      ],
      "text/plain": [
       "   https  len_url  have_host_name  have_ip  special_chars  digits  letters  \\\n",
       "0  False       28               1        0              4       0       22   \n",
       "1  False       28               1        0              3       0       23   \n",
       "2  False      180               1        0              9      50      112   \n",
       "3   True       68               1        0              4       0       59   \n",
       "4  False       41               1        0              3       3       30   \n",
       "\n",
       "   letters_to_digits  \n",
       "0          23.000000  \n",
       "1          24.000000  \n",
       "2           2.215686  \n",
       "3          60.000000  \n",
       "4           7.750000  "
      ]
     },
     "execution_count": 44,
     "metadata": {},
     "output_type": "execute_result"
    }
   ],
   "source": [
    "X.head()"
   ]
  },
  {
   "cell_type": "code",
   "execution_count": null,
   "metadata": {},
   "outputs": [],
   "source": []
  },
  {
   "cell_type": "code",
   "execution_count": 45,
   "metadata": {},
   "outputs": [
    {
     "data": {
      "text/html": [
       "<style>#sk-container-id-2 {color: black;background-color: white;}#sk-container-id-2 pre{padding: 0;}#sk-container-id-2 div.sk-toggleable {background-color: white;}#sk-container-id-2 label.sk-toggleable__label {cursor: pointer;display: block;width: 100%;margin-bottom: 0;padding: 0.3em;box-sizing: border-box;text-align: center;}#sk-container-id-2 label.sk-toggleable__label-arrow:before {content: \"▸\";float: left;margin-right: 0.25em;color: #696969;}#sk-container-id-2 label.sk-toggleable__label-arrow:hover:before {color: black;}#sk-container-id-2 div.sk-estimator:hover label.sk-toggleable__label-arrow:before {color: black;}#sk-container-id-2 div.sk-toggleable__content {max-height: 0;max-width: 0;overflow: hidden;text-align: left;background-color: #f0f8ff;}#sk-container-id-2 div.sk-toggleable__content pre {margin: 0.2em;color: black;border-radius: 0.25em;background-color: #f0f8ff;}#sk-container-id-2 input.sk-toggleable__control:checked~div.sk-toggleable__content {max-height: 200px;max-width: 100%;overflow: auto;}#sk-container-id-2 input.sk-toggleable__control:checked~label.sk-toggleable__label-arrow:before {content: \"▾\";}#sk-container-id-2 div.sk-estimator input.sk-toggleable__control:checked~label.sk-toggleable__label {background-color: #d4ebff;}#sk-container-id-2 div.sk-label input.sk-toggleable__control:checked~label.sk-toggleable__label {background-color: #d4ebff;}#sk-container-id-2 input.sk-hidden--visually {border: 0;clip: rect(1px 1px 1px 1px);clip: rect(1px, 1px, 1px, 1px);height: 1px;margin: -1px;overflow: hidden;padding: 0;position: absolute;width: 1px;}#sk-container-id-2 div.sk-estimator {font-family: monospace;background-color: #f0f8ff;border: 1px dotted black;border-radius: 0.25em;box-sizing: border-box;margin-bottom: 0.5em;}#sk-container-id-2 div.sk-estimator:hover {background-color: #d4ebff;}#sk-container-id-2 div.sk-parallel-item::after {content: \"\";width: 100%;border-bottom: 1px solid gray;flex-grow: 1;}#sk-container-id-2 div.sk-label:hover label.sk-toggleable__label {background-color: #d4ebff;}#sk-container-id-2 div.sk-serial::before {content: \"\";position: absolute;border-left: 1px solid gray;box-sizing: border-box;top: 0;bottom: 0;left: 50%;z-index: 0;}#sk-container-id-2 div.sk-serial {display: flex;flex-direction: column;align-items: center;background-color: white;padding-right: 0.2em;padding-left: 0.2em;position: relative;}#sk-container-id-2 div.sk-item {position: relative;z-index: 1;}#sk-container-id-2 div.sk-parallel {display: flex;align-items: stretch;justify-content: center;background-color: white;position: relative;}#sk-container-id-2 div.sk-item::before, #sk-container-id-2 div.sk-parallel-item::before {content: \"\";position: absolute;border-left: 1px solid gray;box-sizing: border-box;top: 0;bottom: 0;left: 50%;z-index: -1;}#sk-container-id-2 div.sk-parallel-item {display: flex;flex-direction: column;z-index: 1;position: relative;background-color: white;}#sk-container-id-2 div.sk-parallel-item:first-child::after {align-self: flex-end;width: 50%;}#sk-container-id-2 div.sk-parallel-item:last-child::after {align-self: flex-start;width: 50%;}#sk-container-id-2 div.sk-parallel-item:only-child::after {width: 0;}#sk-container-id-2 div.sk-dashed-wrapped {border: 1px dashed gray;margin: 0 0.4em 0.5em 0.4em;box-sizing: border-box;padding-bottom: 0.4em;background-color: white;}#sk-container-id-2 div.sk-label label {font-family: monospace;font-weight: bold;display: inline-block;line-height: 1.2em;}#sk-container-id-2 div.sk-label-container {text-align: center;}#sk-container-id-2 div.sk-container {/* jupyter's `normalize.less` sets `[hidden] { display: none; }` but bootstrap.min.css set `[hidden] { display: none !important; }` so we also need the `!important` here to be able to override the default hidden behavior on the sphinx rendered scikit-learn.org. See: https://github.com/scikit-learn/scikit-learn/issues/21755 */display: inline-block !important;position: relative;}#sk-container-id-2 div.sk-text-repr-fallback {display: none;}</style><div id=\"sk-container-id-2\" class=\"sk-top-container\"><div class=\"sk-text-repr-fallback\"><pre>RandomForestClassifier(n_jobs=-1)</pre><b>In a Jupyter environment, please rerun this cell to show the HTML representation or trust the notebook. <br />On GitHub, the HTML representation is unable to render, please try loading this page with nbviewer.org.</b></div><div class=\"sk-container\" hidden><div class=\"sk-item\"><div class=\"sk-estimator sk-toggleable\"><input class=\"sk-toggleable__control sk-hidden--visually\" id=\"sk-estimator-id-2\" type=\"checkbox\" checked><label for=\"sk-estimator-id-2\" class=\"sk-toggleable__label sk-toggleable__label-arrow\">RandomForestClassifier</label><div class=\"sk-toggleable__content\"><pre>RandomForestClassifier(n_jobs=-1)</pre></div></div></div></div></div>"
      ],
      "text/plain": [
       "RandomForestClassifier(n_jobs=-1)"
      ]
     },
     "execution_count": 45,
     "metadata": {},
     "output_type": "execute_result"
    }
   ],
   "source": [
    "rf1 = RandomForestClassifier(n_jobs=-1)\n",
    "rf1.fit(X, y)"
   ]
  },
  {
   "cell_type": "code",
   "execution_count": 46,
   "metadata": {},
   "outputs": [
    {
     "name": "stdout",
     "output_type": "stream",
     "text": [
      "              precision    recall  f1-score   support\n",
      "\n",
      "           0       0.79      0.91      0.85     79998\n",
      "           1       0.90      0.76      0.83     79998\n",
      "\n",
      "    accuracy                           0.84    159996\n",
      "   macro avg       0.85      0.84      0.84    159996\n",
      "weighted avg       0.85      0.84      0.84    159996\n",
      "\n"
     ]
    }
   ],
   "source": [
    "print(classification_report(y, rf1.predict(X)))"
   ]
  },
  {
   "cell_type": "code",
   "execution_count": 47,
   "metadata": {},
   "outputs": [],
   "source": [
    "def predict_url(url: str) -> str:\n",
    "    pred = rf1.predict(get_feats(url)).item()\n",
    "    return 'safe' if pred == 0 else 'PHISHING'\n"
   ]
  },
  {
   "cell_type": "code",
   "execution_count": 52,
   "metadata": {},
   "outputs": [
    {
     "name": "stdout",
     "output_type": "stream",
     "text": [
      "safe\n"
     ]
    }
   ],
   "source": [
    "print(predict_url('https://app-dispositivoauth.com/'))"
   ]
  },
  {
   "cell_type": "code",
   "execution_count": null,
   "metadata": {},
   "outputs": [],
   "source": [
    "from urllib.parse import urlparse"
   ]
  },
  {
   "cell_type": "code",
   "execution_count": null,
   "metadata": {},
   "outputs": [
    {
     "data": {
      "text/plain": [
       "ParseResult(scheme='https', netloc='home-onlineingservice-7c2773.ingress-c', path='/', params='', query='', fragment='')"
      ]
     },
     "execution_count": 77,
     "metadata": {},
     "output_type": "execute_result"
    }
   ],
   "source": [
    "urlparse('https://home-onlineingservice-7c2773.ingress-c/')"
   ]
  },
  {
   "cell_type": "markdown",
   "metadata": {},
   "source": [
    "### notes\n",
    "1. try netloc length\n",
    "2. try totally removing length\n",
    "3. try manually adding results from google searches and other lengthy urls\n",
    "4. try google index\n",
    "5. try other models\n",
    "6. try deep learning \\\\ for last\n",
    "7. try special characters to url length \n",
    "8. try path lengths\n"
   ]
  },
  {
   "cell_type": "markdown",
   "metadata": {},
   "source": []
  }
 ],
 "metadata": {
  "kernelspec": {
   "display_name": "base",
   "language": "python",
   "name": "python3"
  },
  "language_info": {
   "codemirror_mode": {
    "name": "ipython",
    "version": 3
   },
   "file_extension": ".py",
   "mimetype": "text/x-python",
   "name": "python",
   "nbconvert_exporter": "python",
   "pygments_lexer": "ipython3",
   "version": "3.11.7"
  }
 },
 "nbformat": 4,
 "nbformat_minor": 2
}
